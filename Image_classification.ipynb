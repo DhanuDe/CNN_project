{
 "cells": [
  {
   "cell_type": "code",
   "execution_count": 1,
   "id": "467b9d0b",
   "metadata": {},
   "outputs": [
    {
     "name": "stdout",
     "output_type": "stream",
     "text": [
      "Requirement already satisfied: opencv-python in /Users/danuka/anaconda3/lib/python3.11/site-packages (4.9.0.80)\r\n",
      "Requirement already satisfied: numpy>=1.21.2 in /Users/danuka/anaconda3/lib/python3.11/site-packages (from opencv-python) (1.26.4)\r\n"
     ]
    }
   ],
   "source": [
    "!pip install opencv-python"
   ]
  },
  {
   "cell_type": "code",
   "execution_count": 2,
   "id": "4d3fa600",
   "metadata": {},
   "outputs": [
    {
     "name": "stdout",
     "output_type": "stream",
     "text": [
      "Requirement already satisfied: tensorflow in /Users/danuka/anaconda3/lib/python3.11/site-packages (2.16.1)\n",
      "\u001b[31mERROR: Could not find a version that satisfies the requirement as (from versions: none)\u001b[0m\u001b[31m\n",
      "\u001b[0m\u001b[31mERROR: No matching distribution found for as\u001b[0m\u001b[31m\n",
      "\u001b[0m"
     ]
    }
   ],
   "source": [
    "!pip install tensorflow as tf"
   ]
  },
  {
   "cell_type": "code",
   "execution_count": 4,
   "id": "4225ea4f",
   "metadata": {},
   "outputs": [
    {
     "name": "stderr",
     "output_type": "stream",
     "text": [
      "/Users/danuka/anaconda3/lib/python3.11/site-packages/pandas/core/arrays/masked.py:60: UserWarning: Pandas requires version '1.3.6' or newer of 'bottleneck' (version '1.3.5' currently installed).\n",
      "  from pandas.core import (\n"
     ]
    }
   ],
   "source": [
    "import tensorflow as tf"
   ]
  },
  {
   "cell_type": "code",
   "execution_count": 5,
   "id": "c9d56694",
   "metadata": {},
   "outputs": [
    {
     "name": "stdout",
     "output_type": "stream",
     "text": [
      "GPU is available\n"
     ]
    }
   ],
   "source": [
    "gpu = len(tf.config.list_physical_devices('GPU'))>0\n",
    "print(\"GPU is\", \"available\" if gpu else \"NOT AVAILABLE\")"
   ]
  },
  {
   "cell_type": "code",
   "execution_count": 6,
   "id": "706d40a2",
   "metadata": {},
   "outputs": [
    {
     "name": "stdout",
     "output_type": "stream",
     "text": [
      "Requirement already satisfied: matplotlib in /Users/danuka/anaconda3/lib/python3.11/site-packages (3.8.4)\n",
      "Requirement already satisfied: contourpy>=1.0.1 in /Users/danuka/anaconda3/lib/python3.11/site-packages (from matplotlib) (1.0.5)\n",
      "Requirement already satisfied: cycler>=0.10 in /Users/danuka/anaconda3/lib/python3.11/site-packages (from matplotlib) (0.11.0)\n",
      "Requirement already satisfied: fonttools>=4.22.0 in /Users/danuka/anaconda3/lib/python3.11/site-packages (from matplotlib) (4.25.0)\n",
      "Requirement already satisfied: kiwisolver>=1.3.1 in /Users/danuka/anaconda3/lib/python3.11/site-packages (from matplotlib) (1.4.4)\n",
      "Requirement already satisfied: numpy>=1.21 in /Users/danuka/anaconda3/lib/python3.11/site-packages (from matplotlib) (1.26.4)\n",
      "Requirement already satisfied: packaging>=20.0 in /Users/danuka/anaconda3/lib/python3.11/site-packages (from matplotlib) (23.1)\n",
      "Requirement already satisfied: pillow>=8 in /Users/danuka/anaconda3/lib/python3.11/site-packages (from matplotlib) (9.4.0)\n",
      "Requirement already satisfied: pyparsing>=2.3.1 in /Users/danuka/anaconda3/lib/python3.11/site-packages (from matplotlib) (3.0.9)\n",
      "Requirement already satisfied: python-dateutil>=2.7 in /Users/danuka/anaconda3/lib/python3.11/site-packages (from matplotlib) (2.8.2)\n",
      "Requirement already satisfied: six>=1.5 in /Users/danuka/anaconda3/lib/python3.11/site-packages (from python-dateutil>=2.7->matplotlib) (1.16.0)\n"
     ]
    }
   ],
   "source": [
    "!pip install  matplotlib\n"
   ]
  },
  {
   "cell_type": "code",
   "execution_count": 7,
   "id": "362ac101",
   "metadata": {},
   "outputs": [
    {
     "name": "stdout",
     "output_type": "stream",
     "text": [
      "Package                       Version\r\n",
      "----------------------------- ------------\r\n",
      "absl-py                       2.1.0\r\n",
      "aiobotocore                   2.5.0\r\n",
      "aiofiles                      22.1.0\r\n",
      "aiohttp                       3.8.5\r\n",
      "aioitertools                  0.7.1\r\n",
      "aiosignal                     1.2.0\r\n",
      "aiosqlite                     0.18.0\r\n",
      "alabaster                     0.7.12\r\n",
      "anaconda-anon-usage           0.4.2\r\n",
      "anaconda-catalogs             0.2.0\r\n",
      "anaconda-client               1.12.1\r\n",
      "anaconda-cloud-auth           0.1.3\r\n",
      "anaconda-navigator            2.5.0\r\n",
      "anaconda-project              0.11.1\r\n",
      "anyio                         3.5.0\r\n",
      "appdirs                       1.4.4\r\n",
      "applaunchservices             0.3.0\r\n",
      "appnope                       0.1.2\r\n",
      "appscript                     1.1.2\r\n",
      "argon2-cffi                   21.3.0\r\n",
      "argon2-cffi-bindings          21.2.0\r\n",
      "arrow                         1.2.3\r\n",
      "astroid                       2.14.2\r\n",
      "astropy                       5.1\r\n",
      "asttokens                     2.0.5\r\n",
      "astunparse                    1.6.3\r\n",
      "async-timeout                 4.0.2\r\n",
      "atomicwrites                  1.4.0\r\n",
      "attrs                         22.1.0\r\n",
      "Automat                       20.2.0\r\n",
      "autopep8                      1.6.0\r\n",
      "Babel                         2.11.0\r\n",
      "backcall                      0.2.0\r\n",
      "backports.functools-lru-cache 1.6.4\r\n",
      "backports.tempfile            1.0\r\n",
      "backports.weakref             1.0.post1\r\n",
      "bcrypt                        3.2.0\r\n",
      "beautifulsoup4                4.12.2\r\n",
      "binaryornot                   0.4.4\r\n",
      "black                         0.0\r\n",
      "bleach                        4.1.0\r\n",
      "bokeh                         3.2.1\r\n",
      "boltons                       23.0.0\r\n",
      "botocore                      1.29.76\r\n",
      "Bottleneck                    1.3.5\r\n",
      "brotlipy                      0.7.0\r\n",
      "certifi                       2024.2.2\r\n",
      "cffi                          1.15.1\r\n",
      "chardet                       4.0.0\r\n",
      "charset-normalizer            2.0.4\r\n",
      "click                         8.0.4\r\n",
      "cloudpickle                   2.2.1\r\n",
      "clyent                        1.2.2\r\n",
      "colorama                      0.4.6\r\n",
      "colorcet                      3.0.1\r\n",
      "comm                          0.1.2\r\n",
      "conda                         23.7.4\r\n",
      "conda-build                   3.26.1\r\n",
      "conda-content-trust           0.2.0\r\n",
      "conda_index                   0.3.0\r\n",
      "conda-libmamba-solver         23.7.0\r\n",
      "conda-pack                    0.6.0\r\n",
      "conda-package-handling        2.2.0\r\n",
      "conda_package_streaming       0.9.0\r\n",
      "conda-repo-cli                1.0.75\r\n",
      "conda-token                   0.4.0\r\n",
      "conda-verify                  3.4.2\r\n",
      "constantly                    15.1.0\r\n",
      "contourpy                     1.0.5\r\n",
      "cookiecutter                  1.7.3\r\n",
      "cryptography                  41.0.3\r\n",
      "cssselect                     1.1.0\r\n",
      "cycler                        0.11.0\r\n",
      "cytoolz                       0.12.0\r\n",
      "dask                          2023.6.0\r\n",
      "datasets                      2.12.0\r\n",
      "datashader                    0.15.2\r\n",
      "datashape                     0.5.4\r\n",
      "debugpy                       1.6.7\r\n",
      "decorator                     5.1.1\r\n",
      "defusedxml                    0.7.1\r\n",
      "diff-match-patch              20200713\r\n",
      "dill                          0.3.6\r\n",
      "distlib                       0.3.8\r\n",
      "distributed                   2023.6.0\r\n",
      "dm-tree                       0.1.8\r\n",
      "docstring-to-markdown         0.11\r\n",
      "docutils                      0.18.1\r\n",
      "entrypoints                   0.4\r\n",
      "et-xmlfile                    1.1.0\r\n",
      "executing                     0.8.3\r\n",
      "fastjsonschema                2.16.2\r\n",
      "filelock                      3.13.1\r\n",
      "flake8                        6.0.0\r\n",
      "Flask                         2.2.2\r\n",
      "flatbuffers                   24.3.7\r\n",
      "fonttools                     4.25.0\r\n",
      "frozenlist                    1.3.3\r\n",
      "fsspec                        2023.4.0\r\n",
      "future                        0.18.3\r\n",
      "gast                          0.5.4\r\n",
      "gensim                        4.3.0\r\n",
      "glob2                         0.7\r\n",
      "gmpy2                         2.1.2\r\n",
      "google-pasta                  0.2.0\r\n",
      "greenlet                      2.0.1\r\n",
      "grpcio                        1.62.1\r\n",
      "h5py                          3.11.0\r\n",
      "HeapDict                      1.0.1\r\n",
      "holoviews                     1.17.1\r\n",
      "huggingface-hub               0.15.1\r\n",
      "hvplot                        0.8.4\r\n",
      "hyperlink                     21.0.0\r\n",
      "idna                          3.4\r\n",
      "imagecodecs                   2023.1.23\r\n",
      "imageio                       2.31.1\r\n",
      "imagesize                     1.4.1\r\n",
      "imbalanced-learn              0.10.1\r\n",
      "imblearn                      0.0\r\n",
      "importlib-metadata            6.0.0\r\n",
      "incremental                   21.3.0\r\n",
      "inflection                    0.5.1\r\n",
      "iniconfig                     1.1.1\r\n",
      "intake                        0.6.8\r\n",
      "intervaltree                  3.1.0\r\n",
      "ipykernel                     6.25.0\r\n",
      "ipython                       8.15.0\r\n",
      "ipython-genutils              0.2.0\r\n",
      "ipywidgets                    8.0.4\r\n",
      "isort                         5.9.3\r\n",
      "itemadapter                   0.3.0\r\n",
      "itemloaders                   1.0.4\r\n",
      "itsdangerous                  2.0.1\r\n",
      "jaraco.classes                3.2.1\r\n",
      "jedi                          0.18.1\r\n",
      "jellyfish                     1.0.1\r\n",
      "Jinja2                        3.1.2\r\n",
      "jinja2-time                   0.2.0\r\n",
      "jmespath                      0.10.0\r\n",
      "joblib                        1.2.0\r\n",
      "json5                         0.9.6\r\n",
      "jsonpatch                     1.32\r\n",
      "jsonpointer                   2.1\r\n",
      "jsonschema                    4.17.3\r\n",
      "jupyter                       1.0.0\r\n",
      "jupyter_client                7.4.9\r\n",
      "jupyter-console               6.6.3\r\n",
      "jupyter_core                  5.3.0\r\n",
      "jupyter-events                0.6.3\r\n",
      "jupyter-server                1.23.4\r\n",
      "jupyter_server_fileid         0.9.0\r\n",
      "jupyter_server_ydoc           0.8.0\r\n",
      "jupyter-ydoc                  0.2.4\r\n",
      "jupyterlab                    3.6.3\r\n",
      "jupyterlab-pygments           0.1.2\r\n",
      "jupyterlab_server             2.22.0\r\n",
      "jupyterlab-widgets            3.0.5\r\n",
      "kaggle                        1.6.12\r\n",
      "kaleido                       0.2.1\r\n",
      "keras                         3.0.5\r\n",
      "keyring                       23.13.1\r\n",
      "kiwisolver                    1.4.4\r\n",
      "lazy_loader                   0.2\r\n",
      "lazy-object-proxy             1.6.0\r\n",
      "libarchive-c                  2.9\r\n",
      "libclang                      16.0.6\r\n",
      "libmambapy                    1.5.1\r\n",
      "linkify-it-py                 2.0.0\r\n",
      "llvmlite                      0.40.0\r\n",
      "lmdb                          1.4.1\r\n",
      "locket                        1.0.0\r\n",
      "lxml                          4.9.3\r\n",
      "lz4                           4.3.2\r\n",
      "Markdown                      3.4.1\r\n",
      "markdown-it-py                2.2.0\r\n",
      "MarkupSafe                    2.1.1\r\n",
      "matplotlib                    3.8.4\r\n",
      "matplotlib-inline             0.1.6\r\n",
      "mccabe                        0.7.0\r\n",
      "mdit-py-plugins               0.3.0\r\n",
      "mdurl                         0.1.0\r\n",
      "mistune                       0.8.4\r\n",
      "ml-dtypes                     0.3.2\r\n",
      "more-itertools                8.12.0\r\n",
      "mpmath                        1.3.0\r\n",
      "msgpack                       1.0.3\r\n",
      "multidict                     6.0.2\r\n",
      "multipledispatch              0.6.0\r\n",
      "multiprocess                  0.70.14\r\n",
      "munkres                       1.1.4\r\n",
      "mypy-extensions               1.0.0\r\n",
      "namex                         0.0.7\r\n",
      "navigator-updater             0.4.0\r\n",
      "nbclassic                     0.5.5\r\n",
      "nbclient                      0.5.13\r\n",
      "nbconvert                     6.5.4\r\n",
      "nbformat                      5.9.2\r\n",
      "nest-asyncio                  1.5.6\r\n",
      "networkx                      3.1\r\n",
      "nltk                          3.8.1\r\n",
      "notebook                      6.5.4\r\n",
      "notebook_shim                 0.2.2\r\n",
      "numba                         0.57.1\r\n",
      "numexpr                       2.8.4\r\n",
      "numpy                         1.26.4\r\n",
      "numpydoc                      1.5.0\r\n",
      "opencv-python                 4.9.0.80\r\n",
      "openpyxl                      3.0.10\r\n",
      "opt-einsum                    3.3.0\r\n",
      "packaging                     23.1\r\n",
      "pandas                        2.2.2\r\n",
      "pandocfilters                 1.5.0\r\n",
      "panel                         1.2.3\r\n",
      "param                         1.13.0\r\n",
      "parsel                        1.6.0\r\n",
      "parso                         0.8.3\r\n",
      "partd                         1.4.0\r\n",
      "pathlib                       1.0.1\r\n",
      "pathspec                      0.10.3\r\n",
      "patsy                         0.5.3\r\n",
      "pep8                          1.7.1\r\n",
      "pexpect                       4.8.0\r\n",
      "pickleshare                   0.7.5\r\n",
      "Pillow                        9.4.0\r\n",
      "pip                           23.2.1\r\n",
      "pkce                          1.0.3\r\n",
      "pkginfo                       1.9.6\r\n",
      "platformdirs                  3.10.0\r\n",
      "playsound                     1.3.0\r\n",
      "plotly                        5.22.0\r\n",
      "pluggy                        1.0.0\r\n",
      "ply                           3.11\r\n",
      "poyo                          0.5.0\r\n",
      "prometheus-client             0.14.1\r\n",
      "prompt-toolkit                3.0.36\r\n",
      "Protego                       0.1.16\r\n",
      "protobuf                      4.25.3\r\n",
      "psutil                        5.9.0\r\n",
      "ptyprocess                    0.7.0\r\n",
      "pure-eval                     0.2.2\r\n",
      "py-cpuinfo                    8.0.0\r\n",
      "pyarrow                       11.0.0\r\n",
      "pyasn1                        0.4.8\r\n",
      "pyasn1-modules                0.2.8\r\n",
      "pycodestyle                   2.10.0\r\n",
      "pycosat                       0.6.4\r\n",
      "pycparser                     2.21\r\n",
      "pyct                          0.5.0\r\n",
      "pycurl                        7.45.2\r\n",
      "pydantic                      1.10.8\r\n",
      "PyDispatcher                  2.0.5\r\n",
      "pydocstyle                    6.3.0\r\n",
      "pyerfa                        2.0.0\r\n",
      "pyflakes                      3.0.1\r\n",
      "Pygments                      2.15.1\r\n",
      "PyJWT                         2.4.0\r\n",
      "pylint                        2.16.2\r\n",
      "pylint-venv                   2.3.0\r\n",
      "pyls-spyder                   0.4.0\r\n",
      "pyobjc-core                   9.0\r\n",
      "pyobjc-framework-Cocoa        9.0\r\n",
      "pyobjc-framework-CoreServices 9.0\r\n",
      "pyobjc-framework-FSEvents     9.0\r\n",
      "pyodbc                        4.0.34\r\n",
      "pyOpenSSL                     23.2.0\r\n",
      "pyparsing                     3.0.9\r\n",
      "PyQt5-sip                     12.11.0\r\n",
      "pyrsistent                    0.18.0\r\n",
      "PySocks                       1.7.1\r\n",
      "pytest                        7.4.0\r\n",
      "python-dateutil               2.8.2\r\n",
      "python-dotenv                 0.21.0\r\n",
      "python-json-logger            2.0.7\r\n",
      "python-lsp-black              1.2.1\r\n",
      "python-lsp-jsonrpc            1.0.0\r\n",
      "python-lsp-server             1.7.2\r\n",
      "python-slugify                5.0.2\r\n",
      "python-snappy                 0.6.1\r\n",
      "pytoolconfig                  1.2.5\r\n",
      "pytz                          2023.3.post1\r\n",
      "pyviz-comms                   2.3.0\r\n",
      "PyWavelets                    1.4.1\r\n",
      "PyYAML                        6.0\r\n",
      "pyzmq                         23.2.0\r\n",
      "QDarkStyle                    3.0.2\r\n",
      "qstylizer                     0.2.2\r\n",
      "QtAwesome                     1.2.2\r\n",
      "qtconsole                     5.4.2\r\n",
      "QtPy                          2.2.0\r\n",
      "queuelib                      1.5.0\r\n",
      "regex                         2022.7.9\r\n",
      "requests                      2.31.0\r\n",
      "requests-file                 1.5.1\r\n",
      "requests-toolbelt             1.0.0\r\n",
      "responses                     0.13.3\r\n",
      "rfc3339-validator             0.1.4\r\n",
      "rfc3986-validator             0.1.1\r\n",
      "rich                          13.7.1\r\n",
      "rope                          1.7.0\r\n",
      "Rtree                         1.0.1\r\n",
      "ruamel.yaml                   0.17.21\r\n",
      "ruamel-yaml-conda             0.17.21\r\n",
      "s3fs                          2023.4.0\r\n",
      "safetensors                   0.3.2\r\n",
      "scikit-image                  0.20.0\r\n",
      "scikit-learn                  1.4.2\r\n",
      "scipy                         1.13.0\r\n",
      "Scrapy                        2.8.0\r\n",
      "seaborn                       0.12.2\r\n",
      "Send2Trash                    1.8.0\r\n",
      "service-identity              18.1.0\r\n",
      "setuptools                    68.0.0\r\n",
      "sip                           6.6.2\r\n",
      "six                           1.16.0\r\n",
      "smart-open                    5.2.1\r\n",
      "sniffio                       1.2.0\r\n",
      "snowballstemmer               2.2.0\r\n",
      "sortedcontainers              2.4.0\r\n",
      "soupsieve                     2.4\r\n",
      "Sphinx                        5.0.2\r\n",
      "sphinxcontrib-applehelp       1.0.2\r\n",
      "sphinxcontrib-devhelp         1.0.2\r\n",
      "sphinxcontrib-htmlhelp        2.0.0\r\n",
      "sphinxcontrib-jsmath          1.0.1\r\n",
      "sphinxcontrib-qthelp          1.0.3\r\n",
      "sphinxcontrib-serializinghtml 1.1.5\r\n",
      "spyder                        5.4.3\r\n",
      "spyder-kernels                2.4.4\r\n",
      "SQLAlchemy                    1.4.39\r\n",
      "stack-data                    0.2.0\r\n",
      "statsmodels                   0.14.0\r\n",
      "sympy                         1.11.1\r\n",
      "tables                        3.8.0\r\n",
      "tabulate                      0.8.10\r\n",
      "tblib                         1.7.0\r\n",
      "tenacity                      8.2.2\r\n",
      "tensorboard                   2.16.2\r\n",
      "tensorboard-data-server       0.7.2\r\n",
      "tensorflow                    2.16.1\r\n",
      "tensorflow-io-gcs-filesystem  0.36.0\r\n",
      "tensorflow-macos              2.16.1\r\n",
      "tensorflow-metal              1.1.0\r\n",
      "termcolor                     2.4.0\r\n",
      "terminado                     0.17.1\r\n",
      "text-unidecode                1.3\r\n",
      "textdistance                  4.2.1\r\n",
      "threadpoolctl                 2.2.0\r\n",
      "three-merge                   0.1.1\r\n",
      "tifffile                      2023.4.12\r\n",
      "tinycss2                      1.2.1\r\n",
      "tldextract                    3.2.0\r\n",
      "tokenizers                    0.13.2\r\n",
      "toml                          0.10.2\r\n",
      "tomlkit                       0.11.1\r\n",
      "toolz                         0.12.0\r\n",
      "tornado                       6.3.2\r\n",
      "tqdm                          4.65.0\r\n",
      "traitlets                     5.7.1\r\n",
      "transformers                  4.32.1\r\n",
      "Twisted                       22.10.0\r\n",
      "typing_extensions             4.7.1\r\n",
      "tzdata                        2023.3\r\n",
      "uc-micro-py                   1.0.1\r\n",
      "ujson                         5.4.0\r\n",
      "Unidecode                     1.2.0\r\n",
      "urllib3                       1.26.16\r\n",
      "virtualenv                    20.26.1\r\n",
      "w3lib                         1.21.0\r\n",
      "watchdog                      2.1.6\r\n",
      "wcwidth                       0.2.5\r\n",
      "webencodings                  0.5.1\r\n",
      "websocket-client              0.58.0\r\n",
      "Werkzeug                      2.2.3\r\n",
      "whatthepatch                  1.0.2\r\n",
      "wheel                         0.38.4\r\n",
      "widgetsnbextension            4.0.5\r\n",
      "wrapt                         1.14.1\r\n",
      "wurlitzer                     3.0.2\r\n",
      "xarray                        2023.6.0\r\n",
      "xlwings                       0.29.1\r\n",
      "xxhash                        2.0.2\r\n",
      "xyzservices                   2022.9.0\r\n",
      "y-py                          0.5.9\r\n",
      "yapf                          0.31.0\r\n",
      "yarl                          1.8.1\r\n",
      "ypy-websocket                 0.8.2\r\n",
      "zict                          2.2.0\r\n",
      "zipp                          3.11.0\r\n",
      "zope.interface                5.4.0\r\n",
      "zstandard                     0.19.0\r\n"
     ]
    },
    {
     "name": "stdout",
     "output_type": "stream",
     "text": [
      "Note: you may need to restart the kernel to use updated packages.\n"
     ]
    }
   ],
   "source": [
    "pip list"
   ]
  },
  {
   "cell_type": "code",
   "execution_count": 8,
   "id": "2ee896d4",
   "metadata": {},
   "outputs": [],
   "source": [
    "import tensorflow as tf\n",
    "import os"
   ]
  },
  {
   "cell_type": "code",
   "execution_count": 9,
   "id": "f82d11fa",
   "metadata": {},
   "outputs": [
    {
     "data": {
      "text/plain": [
       "'data/happy'"
      ]
     },
     "execution_count": 9,
     "metadata": {},
     "output_type": "execute_result"
    }
   ],
   "source": [
    "os.path.join('data','happy')"
   ]
  },
  {
   "cell_type": "code",
   "execution_count": 10,
   "id": "64d9a734",
   "metadata": {},
   "outputs": [],
   "source": [
    "gpus  = tf.config.experimental.list_physical_devices('GPU')"
   ]
  },
  {
   "cell_type": "code",
   "execution_count": 11,
   "id": "0cfd5a38",
   "metadata": {},
   "outputs": [
    {
     "data": {
      "text/plain": [
       "[PhysicalDevice(name='/physical_device:GPU:0', device_type='GPU')]"
      ]
     },
     "execution_count": 11,
     "metadata": {},
     "output_type": "execute_result"
    }
   ],
   "source": [
    "gpus"
   ]
  },
  {
   "cell_type": "code",
   "execution_count": 12,
   "id": "c4c2105a",
   "metadata": {},
   "outputs": [],
   "source": [
    "gpus  = tf.config.experimental.list_physical_devices('GPU')\n",
    "for gpu in gpus:\n",
    "    tf.config.experimental.set_memory_growth(gpu,True)"
   ]
  },
  {
   "cell_type": "code",
   "execution_count": 13,
   "id": "c840b599",
   "metadata": {},
   "outputs": [
    {
     "name": "stderr",
     "output_type": "stream",
     "text": [
      "/var/folders/_9/x9g5y1qn7_vdg1xs9q2z_j1r0000gn/T/ipykernel_89436/4232469594.py:2: DeprecationWarning: 'imghdr' is deprecated and slated for removal in Python 3.13\n",
      "  import imghdr\n"
     ]
    }
   ],
   "source": [
    "import cv2\n",
    "import imghdr"
   ]
  },
  {
   "cell_type": "code",
   "execution_count": 16,
   "id": "f1e7bd46",
   "metadata": {},
   "outputs": [],
   "source": [
    "data_dir = 'data'"
   ]
  },
  {
   "cell_type": "code",
   "execution_count": 17,
   "id": "14ff646e",
   "metadata": {},
   "outputs": [
    {
     "data": {
      "text/plain": [
       "'data'"
      ]
     },
     "execution_count": 17,
     "metadata": {},
     "output_type": "execute_result"
    }
   ],
   "source": [
    "data_dir\n"
   ]
  },
  {
   "cell_type": "code",
   "execution_count": 18,
   "id": "cb507350",
   "metadata": {},
   "outputs": [],
   "source": [
    "image_exts = ['jpeg','jpg','bmp','png']  "
   ]
  },
  {
   "cell_type": "code",
   "execution_count": 19,
   "id": "712598c0",
   "metadata": {},
   "outputs": [
    {
     "data": {
      "text/plain": [
       "'.DS_Store'"
      ]
     },
     "execution_count": 19,
     "metadata": {},
     "output_type": "execute_result"
    }
   ],
   "source": [
    "os.listdir(data_dir)[0]"
   ]
  },
  {
   "cell_type": "code",
   "execution_count": 20,
   "id": "16b5f614",
   "metadata": {
    "scrolled": true
   },
   "outputs": [
    {
     "name": "stdout",
     "output_type": "stream",
     "text": [
      ".DS_Store\n",
      "sad_people\n",
      "Happy_people\n"
     ]
    }
   ],
   "source": [
    "for img_class in os.listdir(data_dir):\n",
    "    print(img_class)"
   ]
  },
  {
   "cell_type": "code",
   "execution_count": 21,
   "id": "a74c76a8",
   "metadata": {},
   "outputs": [
    {
     "name": "stdout",
     "output_type": "stream",
     "text": [
      ".DS_Store file deleted successfully\n"
     ]
    }
   ],
   "source": [
    "ds_store_path = os.path.join(data_dir, \".DS_Store\")\n",
    "\n",
    "# Check if the file exists before attempting to remove it\n",
    "if os.path.exists(ds_store_path):\n",
    "    os.remove(ds_store_path)\n",
    "    print(\".DS_Store file deleted successfully\")\n",
    "else:\n",
    "    print(\".DS_Store file does not exist in the directory\")"
   ]
  },
  {
   "cell_type": "code",
   "execution_count": 22,
   "id": "77c77952",
   "metadata": {},
   "outputs": [
    {
     "name": "stdout",
     "output_type": "stream",
     "text": [
      "sad_people\n",
      "Happy_people\n"
     ]
    }
   ],
   "source": [
    "for img_class in os.listdir(data_dir):\n",
    "    print(img_class)"
   ]
  },
  {
   "cell_type": "code",
   "execution_count": 23,
   "id": "4401af66",
   "metadata": {},
   "outputs": [
    {
     "name": "stderr",
     "output_type": "stream",
     "text": [
      "libpng warning: iCCP: known incorrect sRGB profile\n"
     ]
    }
   ],
   "source": [
    "for image_class in os.listdir(data_dir):\n",
    "    for image in os.listdir(os.path.join(data_dir,image_class)):\n",
    "        image_path = os.path.join(data_dir,image_class,image)\n",
    "        try:\n",
    "            img= cv2.imread(image_path)\n",
    "            tip = imghdr.what(image_path)\n",
    "            if tip not in image_exts:\n",
    "                print(\"image not in ext list{}\".format(image_path))\n",
    "                os.remove(image_path)\n",
    "        except Exception as  e:\n",
    "            print(\"issue with image{}\".format(image_path))"
   ]
  },
  {
   "cell_type": "code",
   "execution_count": 24,
   "id": "80d3c900",
   "metadata": {},
   "outputs": [
    {
     "name": "stdout",
     "output_type": "stream",
     "text": [
      "Found 260 files belonging to 2 classes.\n"
     ]
    },
    {
     "name": "stderr",
     "output_type": "stream",
     "text": [
      "2024-05-14 13:22:46.805183: I metal_plugin/src/device/metal_device.cc:1154] Metal device set to: Apple M2\n",
      "2024-05-14 13:22:46.805248: I metal_plugin/src/device/metal_device.cc:296] systemMemory: 8.00 GB\n",
      "2024-05-14 13:22:46.805252: I metal_plugin/src/device/metal_device.cc:313] maxCacheSize: 2.67 GB\n",
      "2024-05-14 13:22:46.806030: I tensorflow/core/common_runtime/pluggable_device/pluggable_device_factory.cc:305] Could not identify NUMA node of platform GPU ID 0, defaulting to 0. Your kernel may not have been built with NUMA support.\n",
      "2024-05-14 13:22:46.806475: I tensorflow/core/common_runtime/pluggable_device/pluggable_device_factory.cc:271] Created TensorFlow device (/job:localhost/replica:0/task:0/device:GPU:0 with 0 MB memory) -> physical PluggableDevice (device: 0, name: METAL, pci bus id: <undefined>)\n"
     ]
    }
   ],
   "source": [
    "data = tf.keras.utils.image_dataset_from_directory('data')"
   ]
  },
  {
   "cell_type": "code",
   "execution_count": 25,
   "id": "8ae67f15",
   "metadata": {},
   "outputs": [
    {
     "data": {
      "text/plain": [
       "<_PrefetchDataset element_spec=(TensorSpec(shape=(None, 256, 256, 3), dtype=tf.float32, name=None), TensorSpec(shape=(None,), dtype=tf.int32, name=None))>"
      ]
     },
     "execution_count": 25,
     "metadata": {},
     "output_type": "execute_result"
    }
   ],
   "source": [
    "data"
   ]
  },
  {
   "cell_type": "code",
   "execution_count": 26,
   "id": "65afb8c9",
   "metadata": {},
   "outputs": [],
   "source": [
    "data_iterator = data.as_numpy_iterator()\n"
   ]
  },
  {
   "cell_type": "code",
   "execution_count": null,
   "id": "d1eb0e8a",
   "metadata": {},
   "outputs": [],
   "source": [
    "batch  = data_iterator.next()"
   ]
  },
  {
   "cell_type": "code",
   "execution_count": null,
   "id": "a0fd5d2a",
   "metadata": {},
   "outputs": [],
   "source": [
    "batch[1]"
   ]
  },
  {
   "cell_type": "code",
   "execution_count": null,
   "id": "882e3b8a",
   "metadata": {},
   "outputs": [],
   "source": []
  }
 ],
 "metadata": {
  "kernelspec": {
   "display_name": "Python 3 (ipykernel)",
   "language": "python",
   "name": "python3"
  },
  "language_info": {
   "codemirror_mode": {
    "name": "ipython",
    "version": 3
   },
   "file_extension": ".py",
   "mimetype": "text/x-python",
   "name": "python",
   "nbconvert_exporter": "python",
   "pygments_lexer": "ipython3",
   "version": "3.11.5"
  }
 },
 "nbformat": 4,
 "nbformat_minor": 5
}
